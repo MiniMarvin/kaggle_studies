{
 "cells": [
  {
   "cell_type": "markdown",
   "metadata": {},
   "source": [
    "## Titanic Snake\n",
    "  \n",
    "Esse caderno tem o objetivo de construir uma aplicação em python para o titanic do Kaggle.  \n",
    "Para completar essa task é preciso que o usuário faça uma predição de se um passageiro do _Titanic_ sobreviveu com base em um dataset disponibilizado no arquivo train.csv e deve ser dado um resultado para esses fatores com o arquivo test.csv.  \n",
    "O Formato de submissão do arquivo deve ser o de um csv com duas columns com os cabeçalhos _PassengerId_ e _suvived_. Esse resultado será avaliado pela Kaggle e dará o resultado do quão boa é sua solução.\n",
    "\n",
    "**Obs**: A recomendação da Kaggle é o uso de binary classification"
   ]
  },
  {
   "cell_type": "code",
   "execution_count": 1,
   "metadata": {},
   "outputs": [],
   "source": [
    "## Import libs\n",
    "import pandas\n",
    "import numpy as np\n",
    "import seaborn as sns\n",
    "import matplotlib.pyplot as plt\n",
    "import math\n",
    "\n",
    "% matplotlib inline"
   ]
  },
  {
   "cell_type": "code",
   "execution_count": 2,
   "metadata": {},
   "outputs": [],
   "source": [
    "## Load datasets\n",
    "train_dataset = pandas.read_csv(\"train.csv\")\n",
    "test_dataset = pandas.read_csv(\"test.csv\")\n",
    "\n",
    "## Remove as tables desnecessárias. OBS: O PassengerId não importa nos dados de treinamento mas no output sim\n",
    "train_dataset = train_dataset.drop(columns=[\"Name\", \"Ticket\", \"Cabin\"]) # TODO: Reavaliar a importância de SibSp, parch\n",
    "test_dataset = test_dataset.drop(columns=[\"Name\", \"Ticket\", \"Cabin\"])"
   ]
  },
  {
   "cell_type": "code",
   "execution_count": 3,
   "metadata": {},
   "outputs": [],
   "source": [
    "## Compila uma inferência para as idades\n",
    "train_dataset[\"Age\"] = train_dataset[\"Age\"].apply(func=lambda x: 5*math.floor(x/5.0) if not math.isnan(x) else x)\n",
    "train_dataset[\"Fare\"] = train_dataset[\"Fare\"].apply(func=lambda x: 5*math.floor(x/5.0) if not math.isnan(x) else x)\n",
    "\n",
    "test_dataset[\"Age\"] = test_dataset[\"Age\"].apply(func=lambda x: 5*math.floor(x/5.0) if not math.isnan(x) else x)\n",
    "test_dataset[\"Fare\"] = test_dataset[\"Fare\"].apply(func=lambda x: 5*math.floor(x/5.0) if not math.isnan(x) else x)"
   ]
  },
  {
   "cell_type": "code",
   "execution_count": 4,
   "metadata": {},
   "outputs": [],
   "source": [
    "## Remove every single NaN and puts 0 because it will ignore the data input in the inference model\n",
    "train_dataset[\"Embarked\"] = train_dataset[\"Embarked\"].fillna(\"C\") # trata o caso das strings da classe de embarque\n",
    "test_dataset[\"Embarked\"] = test_dataset[\"Embarked\"].fillna(\"C\") # trata o caso das strings da classe de embarque\n",
    "train_dataset = train_dataset.fillna(-1)\n",
    "test_dataset = test_dataset.fillna(-1)"
   ]
  },
  {
   "cell_type": "code",
   "execution_count": 5,
   "metadata": {},
   "outputs": [
    {
     "name": "stdout",
     "output_type": "stream",
     "text": [
      "[0, 1, 1, 3, 2, 0, 1]\n"
     ]
    }
   ],
   "source": [
    "## Define como categorizar uma column\n",
    "def cathegoryList(lst):\n",
    "    st = sorted(set(lst))\n",
    "    cathegories = dict((b,a) for a,b in enumerate(st))\n",
    "    return cathegories\n",
    "\n",
    "def cathegorize(lst):\n",
    "    cathegories = cathegoryList(lst)\n",
    "    lst = [cathegories[a] for a in lst]\n",
    "    return lst\n",
    "\n",
    "animals = cathegorize([\"cat\", \"dog\", \"dog\", \"perl\", \"omastar\", \"cat\", \"dog\"])\n",
    "print(animals)"
   ]
  },
  {
   "cell_type": "code",
   "execution_count": 6,
   "metadata": {},
   "outputs": [],
   "source": [
    "train = train_dataset.sample(frac=0.9)\n",
    "test = train_dataset.drop(index=train.index)"
   ]
  },
  {
   "cell_type": "code",
   "execution_count": 7,
   "metadata": {},
   "outputs": [],
   "source": [
    "def normalize_dict(d):\n",
    "    minval = min(d.items(), key=lambda x: x[1])[1]\n",
    "    maxval = max(d.items(), key=lambda x: x[1])[1]\n",
    "    d = {k: (v-minval)/(maxval-minval) + 1 for k, v in d.items()}\n",
    "    return d"
   ]
  },
  {
   "cell_type": "code",
   "execution_count": 8,
   "metadata": {},
   "outputs": [
    {
     "data": {
      "text/plain": [
       "{'male': 1.0, 'female': 2.0}"
      ]
     },
     "execution_count": 8,
     "metadata": {},
     "output_type": "execute_result"
    }
   ],
   "source": [
    "## Probabilidade de sobreviver por sexo\n",
    "df = train[\"Sex\"].groupby(train[\"Survived\"]).value_counts().unstack()\n",
    "male_rate = df[\"male\"][1]/df[\"male\"].sum()\n",
    "female_rate = df[\"female\"][1]/df[\"female\"].sum()\n",
    "sex_rate = {\n",
    "    \"male\": male_rate,\n",
    "    \"female\": female_rate\n",
    "}\n",
    "\n",
    "normalize_dict(sex_rate)"
   ]
  },
  {
   "cell_type": "code",
   "execution_count": 9,
   "metadata": {},
   "outputs": [
    {
     "data": {
      "text/plain": [
       "<matplotlib.axes._subplots.AxesSubplot at 0x114071b38>"
      ]
     },
     "execution_count": 9,
     "metadata": {},
     "output_type": "execute_result"
    },
    {
     "data": {
      "image/png": "[encoded data removed]",
      "text/plain": [
       "<Figure size 576x432 with 1 Axes>"
      ]
     },
     "metadata": {},
     "output_type": "display_data"
    }
   ],
   "source": [
    "plt.figure(figsize=(8,6))\n",
    "plt.style.use('seaborn')\n",
    "sns.countplot(data=train,x='Age')"
   ]
  },
  {
   "cell_type": "code",
   "execution_count": 10,
   "metadata": {},
   "outputs": [],
   "source": [
    "## Probabilidade de sobreviver para cada idade\n",
    "df = train[\"Age\"].groupby(train[\"Survived\"]).value_counts().unstack()\n",
    "ages_rate = dict()\n",
    "for age in df:\n",
    "    ages_rate[age] = df[age][1]/df[age].sum()\n",
    "    if math.isnan(ages_rate[age]): ages_rate[age] = 0\n",
    "\n",
    "ages_rate = normalize_dict(ages_rate)"
   ]
  },
  {
   "cell_type": "code",
   "execution_count": 11,
   "metadata": {},
   "outputs": [
    {
     "data": {
      "text/plain": [
       "<matplotlib.axes._subplots.AxesSubplot at 0x1140956a0>"
      ]
     },
     "execution_count": 11,
     "metadata": {},
     "output_type": "execute_result"
    },
    {
     "data": {
      "image/png": "[encoded data removed]",
      "text/plain": [
       "<Figure size 576x432 with 1 Axes>"
      ]
     },
     "metadata": {},
     "output_type": "display_data"
    }
   ],
   "source": [
    "plt.figure(figsize=(8,6))\n",
    "plt.style.use('seaborn')\n",
    "sns.countplot(data=train,x='Pclass')"
   ]
  },
  {
   "cell_type": "code",
   "execution_count": 12,
   "metadata": {},
   "outputs": [],
   "source": [
    "## Probabilidade de sobreviver pela classe que o passageiro está\n",
    "df = train[\"Pclass\"].groupby(train[\"Survived\"]).value_counts().unstack()\n",
    "pclass_rate = dict()\n",
    "for pclass in df:\n",
    "    pclass_rate[pclass] = df[pclass][1]/df[pclass].sum()\n",
    "    if math.isnan(pclass_rate[pclass]): pclass_rate[pclass] = 0\n",
    "\n",
    "pclass_rate = normalize_dict(pclass_rate)"
   ]
  },
  {
   "cell_type": "code",
   "execution_count": 13,
   "metadata": {},
   "outputs": [
    {
     "data": {
      "text/plain": [
       "<matplotlib.axes._subplots.AxesSubplot at 0x10decb3c8>"
      ]
     },
     "execution_count": 13,
     "metadata": {},
     "output_type": "execute_result"
    },
    {
     "data": {
      "image/png": "[encoded data removed]",
      "text/plain": [
       "<Figure size 576x432 with 1 Axes>"
      ]
     },
     "metadata": {},
     "output_type": "display_data"
    }
   ],
   "source": [
    "plt.figure(figsize=(8,6))\n",
    "plt.style.use('seaborn')\n",
    "sns.countplot(data=train,x='SibSp')"
   ]
  },
  {
   "cell_type": "code",
   "execution_count": 14,
   "metadata": {},
   "outputs": [],
   "source": [
    "## Probabilidade de sobreviver pela classe que o passageiro está\n",
    "df = train[\"SibSp\"].groupby(train[\"Survived\"]).value_counts().unstack()\n",
    "sibsp_rate = dict()\n",
    "for sibsp in df:\n",
    "    sibsp_rate[sibsp] = df[sibsp][1]/df[sibsp].sum()\n",
    "    if math.isnan(sibsp_rate[sibsp]): sibsp_rate[sibsp] = 0\n",
    "\n",
    "sibsp_rate = normalize_dict(sibsp_rate)"
   ]
  },
  {
   "cell_type": "code",
   "execution_count": 15,
   "metadata": {},
   "outputs": [
    {
     "data": {
      "text/plain": [
       "<matplotlib.axes._subplots.AxesSubplot at 0x10d2f3a20>"
      ]
     },
     "execution_count": 15,
     "metadata": {},
     "output_type": "execute_result"
    },
    {
     "data": {
      "image/png": "[encoded data removed]",
      "text/plain": [
       "<Figure size 576x432 with 1 Axes>"
      ]
     },
     "metadata": {},
     "output_type": "display_data"
    }
   ],
   "source": [
    "plt.figure(figsize=(8,6))\n",
    "plt.style.use('seaborn')\n",
    "sns.countplot(data=train,x='Fare')"
   ]
  },
  {
   "cell_type": "code",
   "execution_count": 16,
   "metadata": {},
   "outputs": [],
   "source": [
    "## Probabilidade de sobreviver pela classe que o passageiro está\n",
    "df = train[\"Fare\"].groupby(train[\"Survived\"]).value_counts().unstack()\n",
    "fare_rate = dict()\n",
    "for fare in df:\n",
    "    fare_rate[fare] = df[fare][1]/df[fare].sum()\n",
    "    if math.isnan(fare_rate[fare]): fare_rate[fare] = 0\n",
    "\n",
    "fare_rate = normalize_dict(fare_rate)"
   ]
  },
  {
   "cell_type": "code",
   "execution_count": 17,
   "metadata": {},
   "outputs": [
    {
     "data": {
      "text/plain": [
       "<matplotlib.axes._subplots.AxesSubplot at 0x114461470>"
      ]
     },
     "execution_count": 17,
     "metadata": {},
     "output_type": "execute_result"
    },
    {
     "data": {
      "image/png": "[encoded data removed]",
      "text/plain": [
       "<Figure size 576x432 with 1 Axes>"
      ]
     },
     "metadata": {},
     "output_type": "display_data"
    }
   ],
   "source": [
    "plt.figure(figsize=(8,6))\n",
    "plt.style.use('seaborn')\n",
    "sns.countplot(data=train,x='Embarked')"
   ]
  },
  {
   "cell_type": "code",
   "execution_count": 18,
   "metadata": {},
   "outputs": [],
   "source": [
    "df = train[\"Embarked\"].groupby(train[\"Survived\"]).value_counts().unstack()\n",
    "embarked_rate = dict()\n",
    "for embarked in df:\n",
    "    embarked_rate[embarked] = df[embarked][1]/df[embarked].sum()\n",
    "    if math.isnan(embarked_rate[embarked]): embarked_rate[embarked] = \"C\"\n",
    "\n",
    "embarked_rate = normalize_dict(embarked_rate)"
   ]
  },
  {
   "cell_type": "code",
   "execution_count": 19,
   "metadata": {},
   "outputs": [
    {
     "name": "stdout",
     "output_type": "stream",
     "text": [
      "0.8017456359102244\n"
     ]
    }
   ],
   "source": [
    "def computeAge(a):\n",
    "    age = 5*math.floor(a/5)\n",
    "    if age < 0:\n",
    "        return -1\n",
    "    return 5*math.floor(a/5)\n",
    "\n",
    "prob = []\n",
    "## Itera sobre as linhas do dataset de treino para verificar a eficiência do algorítimo\n",
    "for index, row in train.iterrows():\n",
    "    prob += [(ages_rate[computeAge(row[\"Age\"])] * pclass_rate[row[\"Pclass\"]] * sex_rate[row[\"Sex\"]] \n",
    "            * sibsp_rate[row[\"SibSp\"]] * fare_rate[computeAge(row[\"Fare\"])] * embarked_rate[row[\"Embarked\"]])]\n",
    "    \n",
    "prob = [int((a - min(prob))/(max(prob) - min(prob)) >= 0.2) for a in prob]\n",
    "ct = 0\n",
    "accept_rate = 0\n",
    "for index, row in train.iterrows():\n",
    "    if prob[ct] == row[\"Survived\"]:\n",
    "        accept_rate += 1\n",
    "    ct += 1\n",
    "\n",
    "accept_rate /= ct\n",
    "print(accept_rate)"
   ]
  },
  {
   "cell_type": "code",
   "execution_count": 20,
   "metadata": {},
   "outputs": [
    {
     "name": "stdout",
     "output_type": "stream",
     "text": [
      "0.6109725685785536\n"
     ]
    }
   ],
   "source": [
    "## Itera sobre as linhas do dataset de test para verificar a eficiência do algorítimo\n",
    "for index, row in test.iterrows():\n",
    "    try:\n",
    "        prob += [(ages_rate[computeAge(row[\"Age\"])] * pclass_rate[row[\"Pclass\"]] * sex_rate[row[\"Sex\"]] \n",
    "            * sibsp_rate[row[\"SibSp\"]] * fare_rate[computeAge(row[\"Fare\"])] * embarked_rate[row[\"Embarked\"]])]\n",
    "    except:\n",
    "        prob += [None]\n",
    "\n",
    "minval = min([a for a in prob if a is not None])\n",
    "maxval = max([a for a in prob if a is not None])\n",
    "prob = [a if a is not None else 1 for a in prob]\n",
    "prob = [int((a - minval)/(maxval - minval) >= 0.2) for a in prob]\n",
    "ct = 0\n",
    "accept_rate = 0\n",
    "for index, row in train.iterrows():\n",
    "    if prob[ct] == row[\"Survived\"]:\n",
    "        accept_rate += 1\n",
    "    ct += 1\n",
    "    \n",
    "accept_rate /= ct\n",
    "print(accept_rate)"
   ]
  },
  {
   "cell_type": "code",
   "execution_count": 21,
   "metadata": {},
   "outputs": [
    {
     "name": "stdout",
     "output_type": "stream",
     "text": [
      "[0, 0, 0, 0, 0, 0, 0, 0, 1, 0, 0, 0, 1, 0, 1, 1, 0, 0, 0, 1, 1, 0, 1, 0, 1, 0, 1, 0, 0, 0, 0, 0, 0, 0, 1, 0, 0, 0, 0, 0, 0, 0, 0, 1, 1, 0, 0, 0, 1, 0, 0, 0, 1, 1, 0, 0, 0, 0, 0, 1, 0, 0, 0, 0, 0, 1, 0, 0, 0, 1, 0, 0, 0, 0, 1, 0, 0, 1, 0, 0, 0, 0, 0, 0, 0, 0, 0, 0, 0, 0, 0, 0, 1, 0, 0, 0, 0, 0, 0, 0, 1, 0, 0, 0, 1, 0, 0, 0, 0, 0, 0, 0, 1, 0, 1, 0, 0, 1, 0, 1, 1, 0, 1, 0, 0, 0, 0, 0, 0, 0, 0, 0, 0, 0, 0, 0, 0, 0, 0, 0, 0, 1, 1, 0, 0, 0, 0, 0, 0, 0, 1, 0, 0, 0, 0, 0, 0, 0, 0, 0, 0, 0, 1, 0, 0, 0, 0, 0, 1, 0, 0, 0, 0, 0, 0, 1, 1, 1, 1, 1, 0, 1, 1, 0, 1, 0, 1, 0, 0, 0, 0, 0, 0, 0, 0, 0, 1, 0, 0, 0, 0, 0, 1, 1, 0, 0, 0, 0, 1, 0, 0, 0, 0, 1, 0, 0, 0, 0, 1, 0, 1, 0, 1, 0, 1, 1, 0, 0, 0, 0, 0, 1, 0, 0, 0, 0, 1, 0, 1, 1, 1, 1, 1, 0, 0, 0, 1, 0, 1, 1, 1, 0, 1, 0, 0, 0, 0, 0, 1, 0, 0, 0, 1, 1, 0, 0, 0, 0, 0, 0, 0, 0, 1, 1, 0, 1, 0, 0, 0, 0, 0, 0, 0, 1, 0, 0, 0, 0, 0, 0, 0, 0, 0, 0, 0, 0, 1, 0, 0, 0, 0, 0, 0, 0, 0, 1, 0, 0, 0, 0, 0, 0, 0, 0, 1, 0, 1, 0, 0, 0, 0, 0, 0, 0, 1, 0, 1, 0, 0, 0, 1, 0, 0, 1, 0, 0, 0, 0, 0, 0, 0, 0, 0, 1, 0, 0, 0, 1, 0, 1, 1, 0, 0, 0, 0, 0, 1, 0, 0, 0, 0, 1, 1, 0, 1, 0, 0, 0, 1, 0, 0, 1, 0, 0, 1, 1, 0, 0, 0, 0, 0, 0, 0, 0, 0, 1, 0, 0, 0, 0, 0, 1, 0, 0, 0, 1, 0, 1, 0, 0, 1, 0, 1, 0, 0, 0, 0, 1, 0, 1, 0, 1, 0, 0, 1, 0, 0, 0]\n"
     ]
    }
   ],
   "source": [
    "prob = []\n",
    "for index, row in test_dataset.iterrows():\n",
    "    try:\n",
    "        prob += [(ages_rate[computeAge(row[\"Age\"])] * pclass_rate[row[\"Pclass\"]] * sex_rate[row[\"Sex\"]] \n",
    "            * sibsp_rate[row[\"SibSp\"]] * fare_rate[computeAge(row[\"Fare\"])] * embarked_rate[row[\"Embarked\"]])]\n",
    "    except:\n",
    "        prob += [None]\n",
    "\n",
    "minval = min([a for a in prob if a is not None])\n",
    "maxval = max([a for a in prob if a is not None])\n",
    "prob = [a if a is not None else 1 for a in prob]\n",
    "prob = [int((a - minval)/(maxval - minval) >= 0.2) for a in prob]\n",
    "\n",
    "print(prob)"
   ]
  },
  {
   "cell_type": "code",
   "execution_count": 22,
   "metadata": {},
   "outputs": [
    {
     "name": "stdout",
     "output_type": "stream",
     "text": [
      "(418, 1) 418\n"
     ]
    }
   ],
   "source": [
    "output = test_dataset[\"PassengerId\"].copy()\n",
    "output = output.to_frame()\n",
    "\n",
    "print(output.shape, len(prob))\n",
    "# print(output)\n",
    "output = output.assign(Survived=prob)\n",
    "\n",
    "filename = \"titanic_statistics_survivors.csv\"\n",
    "output.to_csv(filename, sep=',', encoding='utf-8', header=True, index=False)"
   ]
  },
  {
   "cell_type": "code",
   "execution_count": null,
   "metadata": {},
   "outputs": [],
   "source": []
  }
 ],
 "metadata": {
  "kernelspec": {
   "display_name": "Python 3",
   "language": "python",
   "name": "python3"
  },
  "language_info": {
   "codemirror_mode": {
    "name": "ipython",
    "version": 3
   },
   "file_extension": ".py",
   "mimetype": "text/x-python",
   "name": "python",
   "nbconvert_exporter": "python",
   "pygments_lexer": "ipython3",
   "version": "3.6.5"
  }
 },
 "nbformat": 4,
 "nbformat_minor": 2
}
